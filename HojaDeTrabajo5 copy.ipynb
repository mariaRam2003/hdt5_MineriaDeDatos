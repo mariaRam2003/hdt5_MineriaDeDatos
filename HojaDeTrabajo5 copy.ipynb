{
 "cells": [
  {
   "cell_type": "markdown",
   "metadata": {},
   "source": [
    "# Hoja de Trabajo 5\n",
    "## Redes Bayesianas\n",
    "---\n",
    "**Integrantes**\n",
    "- Maria Marta Ramirez Gil\n",
    "- Gustavo Andres Gonzalez Pineda \n",
    "- Diego Alberto Leiva Pérez \n",
    "- José Pablo Orellana Orellana \n",
    "- Gabriel Estuardo García Donis \n",
    "---"
   ]
  },
  {
   "cell_type": "markdown",
   "metadata": {},
   "source": [
    "### Analisis Exploratorio"
   ]
  },
  {
   "cell_type": "markdown",
   "metadata": {},
   "source": [
    "**Importar Librerias**"
   ]
  },
  {
   "cell_type": "code",
   "execution_count": 1,
   "metadata": {},
   "outputs": [],
   "source": [
    "import pandas as pd\n",
    "import numpy as np\n",
    "import matplotlib.pyplot as plt\n",
    "import seaborn as sns\n",
    "from sklearn.model_selection import train_test_split"
   ]
  },
  {
   "cell_type": "markdown",
   "metadata": {},
   "source": [
    "**Cargar el dataset al entorno**"
   ]
  },
  {
   "cell_type": "code",
   "execution_count": 2,
   "metadata": {},
   "outputs": [],
   "source": [
    "df = pd.read_csv(\"student.csv\", sep = \",\")"
   ]
  },
  {
   "cell_type": "markdown",
   "metadata": {},
   "source": [
    "**Resumen de los datos**"
   ]
  },
  {
   "cell_type": "code",
   "execution_count": 3,
   "metadata": {},
   "outputs": [
    {
     "name": "stdout",
     "output_type": "stream",
     "text": [
      "<class 'pandas.core.frame.DataFrame'>\n",
      "RangeIndex: 145 entries, 0 to 144\n",
      "Data columns (total 16 columns):\n",
      " #   Column              Non-Null Count  Dtype \n",
      "---  ------              --------------  ----- \n",
      " 0   Unnamed: 0          145 non-null    int64 \n",
      " 1   Id                  145 non-null    int64 \n",
      " 2   Student_Age         145 non-null    int64 \n",
      " 3   Sex                 145 non-null    object\n",
      " 4   High_School_Type    145 non-null    object\n",
      " 5   Scholarship         144 non-null    object\n",
      " 6   Additional_Work     145 non-null    object\n",
      " 7   Sports_activity     145 non-null    object\n",
      " 8   Transportation      145 non-null    object\n",
      " 9   Weekly_Study_Hours  145 non-null    int64 \n",
      " 10  Attendance          145 non-null    object\n",
      " 11  Reading             145 non-null    object\n",
      " 12  Notes               145 non-null    object\n",
      " 13  Listening_in_Class  145 non-null    object\n",
      " 14  Project_work        145 non-null    object\n",
      " 15  Grade               145 non-null    object\n",
      "dtypes: int64(4), object(12)\n",
      "memory usage: 18.3+ KB\n"
     ]
    }
   ],
   "source": [
    "df.info()"
   ]
  },
  {
   "cell_type": "markdown",
   "metadata": {},
   "source": [
    "**Visualizar la data**"
   ]
  },
  {
   "cell_type": "code",
   "execution_count": 4,
   "metadata": {},
   "outputs": [
    {
     "data": {
      "text/html": [
       "<div>\n",
       "<style scoped>\n",
       "    .dataframe tbody tr th:only-of-type {\n",
       "        vertical-align: middle;\n",
       "    }\n",
       "\n",
       "    .dataframe tbody tr th {\n",
       "        vertical-align: top;\n",
       "    }\n",
       "\n",
       "    .dataframe thead th {\n",
       "        text-align: right;\n",
       "    }\n",
       "</style>\n",
       "<table border=\"1\" class=\"dataframe\">\n",
       "  <thead>\n",
       "    <tr style=\"text-align: right;\">\n",
       "      <th></th>\n",
       "      <th>Unnamed: 0</th>\n",
       "      <th>Id</th>\n",
       "      <th>Student_Age</th>\n",
       "      <th>Sex</th>\n",
       "      <th>High_School_Type</th>\n",
       "      <th>Scholarship</th>\n",
       "      <th>Additional_Work</th>\n",
       "      <th>Sports_activity</th>\n",
       "      <th>Transportation</th>\n",
       "      <th>Weekly_Study_Hours</th>\n",
       "      <th>Attendance</th>\n",
       "      <th>Reading</th>\n",
       "      <th>Notes</th>\n",
       "      <th>Listening_in_Class</th>\n",
       "      <th>Project_work</th>\n",
       "      <th>Grade</th>\n",
       "    </tr>\n",
       "  </thead>\n",
       "  <tbody>\n",
       "    <tr>\n",
       "      <th>0</th>\n",
       "      <td>0</td>\n",
       "      <td>5001</td>\n",
       "      <td>21</td>\n",
       "      <td>Male</td>\n",
       "      <td>Other</td>\n",
       "      <td>50%</td>\n",
       "      <td>Yes</td>\n",
       "      <td>No</td>\n",
       "      <td>Private</td>\n",
       "      <td>0</td>\n",
       "      <td>Always</td>\n",
       "      <td>Yes</td>\n",
       "      <td>Yes</td>\n",
       "      <td>No</td>\n",
       "      <td>No</td>\n",
       "      <td>AA</td>\n",
       "    </tr>\n",
       "    <tr>\n",
       "      <th>1</th>\n",
       "      <td>1</td>\n",
       "      <td>5002</td>\n",
       "      <td>20</td>\n",
       "      <td>Male</td>\n",
       "      <td>Other</td>\n",
       "      <td>50%</td>\n",
       "      <td>Yes</td>\n",
       "      <td>No</td>\n",
       "      <td>Private</td>\n",
       "      <td>0</td>\n",
       "      <td>Always</td>\n",
       "      <td>Yes</td>\n",
       "      <td>No</td>\n",
       "      <td>Yes</td>\n",
       "      <td>Yes</td>\n",
       "      <td>AA</td>\n",
       "    </tr>\n",
       "    <tr>\n",
       "      <th>2</th>\n",
       "      <td>2</td>\n",
       "      <td>5003</td>\n",
       "      <td>21</td>\n",
       "      <td>Male</td>\n",
       "      <td>State</td>\n",
       "      <td>50%</td>\n",
       "      <td>No</td>\n",
       "      <td>No</td>\n",
       "      <td>Private</td>\n",
       "      <td>2</td>\n",
       "      <td>Never</td>\n",
       "      <td>No</td>\n",
       "      <td>No</td>\n",
       "      <td>No</td>\n",
       "      <td>Yes</td>\n",
       "      <td>AA</td>\n",
       "    </tr>\n",
       "    <tr>\n",
       "      <th>3</th>\n",
       "      <td>3</td>\n",
       "      <td>5004</td>\n",
       "      <td>18</td>\n",
       "      <td>Female</td>\n",
       "      <td>Private</td>\n",
       "      <td>50%</td>\n",
       "      <td>Yes</td>\n",
       "      <td>No</td>\n",
       "      <td>Bus</td>\n",
       "      <td>2</td>\n",
       "      <td>Always</td>\n",
       "      <td>No</td>\n",
       "      <td>Yes</td>\n",
       "      <td>No</td>\n",
       "      <td>No</td>\n",
       "      <td>AA</td>\n",
       "    </tr>\n",
       "    <tr>\n",
       "      <th>4</th>\n",
       "      <td>4</td>\n",
       "      <td>5005</td>\n",
       "      <td>22</td>\n",
       "      <td>Male</td>\n",
       "      <td>Private</td>\n",
       "      <td>50%</td>\n",
       "      <td>No</td>\n",
       "      <td>No</td>\n",
       "      <td>Bus</td>\n",
       "      <td>12</td>\n",
       "      <td>Always</td>\n",
       "      <td>Yes</td>\n",
       "      <td>No</td>\n",
       "      <td>Yes</td>\n",
       "      <td>Yes</td>\n",
       "      <td>AA</td>\n",
       "    </tr>\n",
       "  </tbody>\n",
       "</table>\n",
       "</div>"
      ],
      "text/plain": [
       "   Unnamed: 0    Id  Student_Age     Sex High_School_Type Scholarship  \\\n",
       "0           0  5001           21    Male            Other         50%   \n",
       "1           1  5002           20    Male            Other         50%   \n",
       "2           2  5003           21    Male            State         50%   \n",
       "3           3  5004           18  Female          Private         50%   \n",
       "4           4  5005           22    Male          Private         50%   \n",
       "\n",
       "  Additional_Work Sports_activity Transportation  Weekly_Study_Hours  \\\n",
       "0             Yes              No        Private                   0   \n",
       "1             Yes              No        Private                   0   \n",
       "2              No              No        Private                   2   \n",
       "3             Yes              No            Bus                   2   \n",
       "4              No              No            Bus                  12   \n",
       "\n",
       "  Attendance Reading Notes Listening_in_Class Project_work Grade  \n",
       "0     Always     Yes   Yes                 No           No    AA  \n",
       "1     Always     Yes    No                Yes          Yes    AA  \n",
       "2      Never      No    No                 No          Yes    AA  \n",
       "3     Always      No   Yes                 No           No    AA  \n",
       "4     Always     Yes    No                Yes          Yes    AA  "
      ]
     },
     "execution_count": 4,
     "metadata": {},
     "output_type": "execute_result"
    }
   ],
   "source": [
    "df.head()"
   ]
  },
  {
   "cell_type": "markdown",
   "metadata": {},
   "source": [
    "**Estructura del dataset**"
   ]
  },
  {
   "cell_type": "code",
   "execution_count": 5,
   "metadata": {},
   "outputs": [
    {
     "name": "stdout",
     "output_type": "stream",
     "text": [
      "La data tiene:  145  filas y  16  columnas\n"
     ]
    }
   ],
   "source": [
    "print(\"La data tiene: \", df.shape[0], \" filas y \", df.shape[1], \" columnas\")"
   ]
  },
  {
   "cell_type": "markdown",
   "metadata": {},
   "source": [
    "**Tipos de variables**"
   ]
  },
  {
   "cell_type": "code",
   "execution_count": 6,
   "metadata": {},
   "outputs": [
    {
     "name": "stdout",
     "output_type": "stream",
     "text": [
      "Hay  12  variables categoricas\n",
      "Las variables categoricas son: \n",
      "------------------------------\n",
      "Sex\n",
      "High_School_Type\n",
      "Scholarship\n",
      "Additional_Work\n",
      "Sports_activity\n",
      "Transportation\n",
      "Attendance\n",
      "Reading\n",
      "Notes\n",
      "Listening_in_Class\n",
      "Project_work\n",
      "Grade\n"
     ]
    }
   ],
   "source": [
    "categoricas = []\n",
    "\n",
    "for columna in df.columns:\n",
    "    if df[columna].dtype=='O':\n",
    "        categoricas.append(columna)\n",
    "        \n",
    "print(\"Hay \", len(categoricas), \" variables categoricas\")\n",
    "\n",
    "\n",
    "print(\"Las variables categoricas son: \")\n",
    "print(\"-\"*30)\n",
    "for var in categoricas:\n",
    "    print(var)\n"
   ]
  },
  {
   "cell_type": "code",
   "execution_count": 7,
   "metadata": {},
   "outputs": [
    {
     "name": "stdout",
     "output_type": "stream",
     "text": [
      "Hay  4  variables numericas\n",
      "Las variables numericas son: \n",
      "------------------------------\n",
      "Unnamed: 0\n",
      "Id\n",
      "Student_Age\n",
      "Weekly_Study_Hours\n"
     ]
    }
   ],
   "source": [
    "numericas = []\n",
    "\n",
    "for columna in df.columns:\n",
    "    if df[columna].dtype=='int64' or df[columna].dtype=='float64':\n",
    "        numericas.append(columna)\n",
    "        \n",
    "print(\"Hay \", len(numericas), \" variables numericas\")\n",
    "\n",
    "\n",
    "print(\"Las variables numericas son: \")\n",
    "print(\"-\"*30)\n",
    "for var in numericas:\n",
    "    print(var)\n"
   ]
  },
  {
   "cell_type": "markdown",
   "metadata": {},
   "source": [
    "**Variables Identificadas**\n",
    "\n",
    "1. **Unnamed: 0**: Parece ser una columna de índices automáticos generados. NO RELEVANTE\n",
    "\n",
    "2. **Id**: Identificador único para cada entrada en el DataFrame, probablemente representando a cada estudiante.\n",
    "\n",
    "3. **Student_Age**: Edad del estudiante, de tipo entero (`int64`).\n",
    "\n",
    "4. **Sex**: Sexo del estudiante, de tipo objeto (`object`), lo que usualmente indica que los datos son cadenas de texto.\n",
    "\n",
    "5. **High_School_Type**: Tipo de escuela secundaria, almacenado como texto (`object`).\n",
    "\n",
    "6. **Scholarship**: Indica si el estudiante tiene una beca. Nota que hay 144 valores no nulos, por lo que una entrada está faltando en esta columna.\n",
    "\n",
    "7. **Additional_Work**: Información sobre si el estudiante realiza trabajos adicionales, almacenado como texto (`object`).\n",
    "\n",
    "8. **Sports_activity**: Actividad deportiva del estudiante, también de tipo objeto (`object`).\n",
    "\n",
    "9. **Transportation**: Método de transporte del estudiante, de tipo objeto (`object`).\n",
    "\n",
    "10. **Weekly_Study_Hours**: Número de horas de estudio por semana, de tipo entero (`int64`).\n",
    "\n",
    "11. **Attendance**: Asistencia del estudiante, almacenado como texto (`object`).\n",
    "\n",
    "12. **Reading**: Hábitos de lectura del estudiante, también almacenados como texto (`object`).\n",
    "\n",
    "13. **Notes**: Si el estudiante toma notas, de tipo objeto (`object`).\n",
    "\n",
    "14. **Listening_in_Class**: Si el estudiante escucha en clase, almacenado como texto (`object`).\n",
    "\n",
    "15. **Project_work**: Trabajo de proyecto del estudiante, también de tipo objeto (`object`).\n",
    "\n",
    "16. **Grade**: Calificaciones del estudiante, almacenado como texto (`object`)."
   ]
  },
  {
   "cell_type": "markdown",
   "metadata": {},
   "source": [
    "### Preprocesamiento y limpieza"
   ]
  },
  {
   "cell_type": "markdown",
   "metadata": {},
   "source": [
    "**Validar que no haya nulos**"
   ]
  },
  {
   "cell_type": "code",
   "execution_count": 8,
   "metadata": {},
   "outputs": [
    {
     "data": {
      "text/plain": [
       "Unnamed: 0            0\n",
       "Id                    0\n",
       "Student_Age           0\n",
       "Sex                   0\n",
       "High_School_Type      0\n",
       "Scholarship           1\n",
       "Additional_Work       0\n",
       "Sports_activity       0\n",
       "Transportation        0\n",
       "Weekly_Study_Hours    0\n",
       "Attendance            0\n",
       "Reading               0\n",
       "Notes                 0\n",
       "Listening_in_Class    0\n",
       "Project_work          0\n",
       "Grade                 0\n",
       "dtype: int64"
      ]
     },
     "execution_count": 8,
     "metadata": {},
     "output_type": "execute_result"
    }
   ],
   "source": [
    "df.isnull().sum()"
   ]
  },
  {
   "cell_type": "markdown",
   "metadata": {},
   "source": [
    "Solo existe un unico valor nulo, en la columna de becas academicas, por lo tanto se entiende que dicho registro es de un estudiante sin beca, se procede a llenar con 0%"
   ]
  },
  {
   "cell_type": "code",
   "execution_count": 9,
   "metadata": {},
   "outputs": [],
   "source": [
    "df['Scholarship'] = df['Scholarship'].fillna('0%')"
   ]
  },
  {
   "cell_type": "markdown",
   "metadata": {},
   "source": [
    "**Frecuencia de valores categoricos**"
   ]
  },
  {
   "cell_type": "code",
   "execution_count": 10,
   "metadata": {},
   "outputs": [
    {
     "name": "stdout",
     "output_type": "stream",
     "text": [
      "Sex\n",
      "Male      87\n",
      "Female    58\n",
      "Name: count, dtype: int64\n",
      "------------------------------\n",
      "High_School_Type\n",
      "State      103\n",
      "Private     25\n",
      "Other       17\n",
      "Name: count, dtype: int64\n",
      "------------------------------\n",
      "Scholarship\n",
      "50%     76\n",
      "75%     42\n",
      "100%    23\n",
      "25%      3\n",
      "0%       1\n",
      "Name: count, dtype: int64\n",
      "------------------------------\n",
      "Additional_Work\n",
      "No     96\n",
      "Yes    49\n",
      "Name: count, dtype: int64\n",
      "------------------------------\n",
      "Sports_activity\n",
      "No     87\n",
      "Yes    58\n",
      "Name: count, dtype: int64\n",
      "------------------------------\n",
      "Transportation\n",
      "Private    84\n",
      "Bus        61\n",
      "Name: count, dtype: int64\n",
      "------------------------------\n",
      "Attendance\n",
      "Always       98\n",
      "Sometimes    25\n",
      "Never        21\n",
      "3             1\n",
      "Name: count, dtype: int64\n",
      "------------------------------\n",
      "Reading\n",
      "No     76\n",
      "Yes    69\n",
      "Name: count, dtype: int64\n",
      "------------------------------\n",
      "Notes\n",
      "Yes    77\n",
      "No     66\n",
      "6       2\n",
      "Name: count, dtype: int64\n",
      "------------------------------\n",
      "Listening_in_Class\n",
      "Yes    75\n",
      "No     69\n",
      "6       1\n",
      "Name: count, dtype: int64\n",
      "------------------------------\n",
      "Project_work\n",
      "No     73\n",
      "Yes    72\n",
      "Name: count, dtype: int64\n",
      "------------------------------\n",
      "Grade\n",
      "AA      35\n",
      "BA      24\n",
      "BB      21\n",
      "CC      17\n",
      "DD      17\n",
      "DC      13\n",
      "CB      10\n",
      "Fail     8\n",
      "Name: count, dtype: int64\n",
      "------------------------------\n"
     ]
    }
   ],
   "source": [
    "for var in categoricas:\n",
    "    print(df[var].value_counts())\n",
    "    print(\"-\"* 30)"
   ]
  },
  {
   "cell_type": "markdown",
   "metadata": {},
   "source": [
    "Frecuencia de valores como porcentajes"
   ]
  },
  {
   "cell_type": "code",
   "execution_count": 12,
   "metadata": {},
   "outputs": [
    {
     "name": "stdout",
     "output_type": "stream",
     "text": [
      "Sex\n",
      "Male      0.6\n",
      "Female    0.4\n",
      "Name: count, dtype: float64\n",
      "------------------------------\n",
      "High_School_Type\n",
      "State      0.710345\n",
      "Private    0.172414\n",
      "Other      0.117241\n",
      "Name: count, dtype: float64\n",
      "------------------------------\n",
      "Scholarship\n",
      "50%     0.524138\n",
      "75%     0.289655\n",
      "100%    0.158621\n",
      "25%     0.020690\n",
      "0%      0.006897\n",
      "Name: count, dtype: float64\n",
      "------------------------------\n",
      "Additional_Work\n",
      "No     0.662069\n",
      "Yes    0.337931\n",
      "Name: count, dtype: float64\n",
      "------------------------------\n",
      "Sports_activity\n",
      "No     0.6\n",
      "Yes    0.4\n",
      "Name: count, dtype: float64\n",
      "------------------------------\n",
      "Transportation\n",
      "Private    0.57931\n",
      "Bus        0.42069\n",
      "Name: count, dtype: float64\n",
      "------------------------------\n",
      "Attendance\n",
      "Always       0.675862\n",
      "Sometimes    0.172414\n",
      "Never        0.144828\n",
      "3            0.006897\n",
      "Name: count, dtype: float64\n",
      "------------------------------\n",
      "Reading\n",
      "No     0.524138\n",
      "Yes    0.475862\n",
      "Name: count, dtype: float64\n",
      "------------------------------\n",
      "Notes\n",
      "Yes    0.531034\n",
      "No     0.455172\n",
      "6      0.013793\n",
      "Name: count, dtype: float64\n",
      "------------------------------\n",
      "Listening_in_Class\n",
      "Yes    0.517241\n",
      "No     0.475862\n",
      "6      0.006897\n",
      "Name: count, dtype: float64\n",
      "------------------------------\n",
      "Project_work\n",
      "No     0.503448\n",
      "Yes    0.496552\n",
      "Name: count, dtype: float64\n",
      "------------------------------\n",
      "Grade\n",
      "AA      0.241379\n",
      "BA      0.165517\n",
      "BB      0.144828\n",
      "CC      0.117241\n",
      "DD      0.117241\n",
      "DC      0.089655\n",
      "CB      0.068966\n",
      "Fail    0.055172\n",
      "Name: count, dtype: float64\n",
      "------------------------------\n"
     ]
    }
   ],
   "source": [
    "for var in categoricas:\n",
    "    print(df[var].value_counts()/float(len(df)))\n",
    "    print('-'*30)"
   ]
  },
  {
   "cell_type": "markdown",
   "metadata": {},
   "source": [
    "**Cardinalidad**"
   ]
  },
  {
   "cell_type": "code",
   "execution_count": 13,
   "metadata": {},
   "outputs": [
    {
     "name": "stdout",
     "output_type": "stream",
     "text": [
      "Sex  tiene  2  etiquetas\n",
      "High_School_Type  tiene  3  etiquetas\n",
      "Scholarship  tiene  5  etiquetas\n",
      "Additional_Work  tiene  2  etiquetas\n",
      "Sports_activity  tiene  2  etiquetas\n",
      "Transportation  tiene  2  etiquetas\n",
      "Attendance  tiene  4  etiquetas\n",
      "Reading  tiene  2  etiquetas\n",
      "Notes  tiene  3  etiquetas\n",
      "Listening_in_Class  tiene  3  etiquetas\n",
      "Project_work  tiene  2  etiquetas\n",
      "Grade  tiene  8  etiquetas\n"
     ]
    }
   ],
   "source": [
    "for var in categoricas:\n",
    "    print(var, ' tiene ', len(df[var].unique()), ' etiquetas')"
   ]
  }
 ],
 "metadata": {
  "kernelspec": {
   "display_name": "Python 3",
   "language": "python",
   "name": "python3"
  },
  "language_info": {
   "codemirror_mode": {
    "name": "ipython",
    "version": 3
   },
   "file_extension": ".py",
   "mimetype": "text/x-python",
   "name": "python",
   "nbconvert_exporter": "python",
   "pygments_lexer": "ipython3",
   "version": "3.11.6"
  }
 },
 "nbformat": 4,
 "nbformat_minor": 2
}
